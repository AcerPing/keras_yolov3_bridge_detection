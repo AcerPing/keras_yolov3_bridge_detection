{
  "nbformat": 4,
  "nbformat_minor": 0,
  "metadata": {
    "colab": {
      "name": "train_Yolo_V4.ipynb",
      "provenance": [],
      "collapsed_sections": [],
      "include_colab_link": true
    },
    "kernelspec": {
      "display_name": "Python 3",
      "language": "python",
      "name": "python3"
    },
    "language_info": {
      "codemirror_mode": {
        "name": "ipython",
        "version": 3
      },
      "file_extension": ".py",
      "mimetype": "text/x-python",
      "name": "python",
      "nbconvert_exporter": "python",
      "pygments_lexer": "ipython3",
      "version": "3.7.6"
    },
    "accelerator": "GPU"
  },
  "cells": [
    {
      "cell_type": "markdown",
      "metadata": {
        "id": "view-in-github",
        "colab_type": "text"
      },
      "source": [
        "<a href=\"https://colab.research.google.com/github/AcerPing/keras_yolov3_bridge_detection/blob/master/train_Yolo_V4.ipynb\" target=\"_parent\"><img src=\"https://colab.research.google.com/assets/colab-badge.svg\" alt=\"Open In Colab\"/></a>"
      ]
    },
    {
      "cell_type": "code",
      "metadata": {
        "id": "j2HBPd3ELnjD",
        "colab_type": "code",
        "colab": {}
      },
      "source": [
        "from google.colab import drive\n",
        "drive.mount('/content/drive')"
      ],
      "execution_count": null,
      "outputs": []
    },
    {
      "cell_type": "code",
      "metadata": {
        "id": "Wps53BU6KXyW",
        "colab_type": "code",
        "colab": {}
      },
      "source": [
        "import sys\n",
        "sys.path.append(\"/content/drive/My Drive/keras_yolov3_bridge_detection\")"
      ],
      "execution_count": null,
      "outputs": []
    },
    {
      "cell_type": "code",
      "metadata": {
        "id": "DYvcrNYzKXyc",
        "colab_type": "code",
        "colab": {}
      },
      "source": [
        "from utils import DataGenerator, read_annotation_lines\n",
        "from models import Yolov4\n",
        "from config import yolo_config\n",
        "\n",
        "\n",
        "import os\n",
        "import numpy as np\n",
        "import keras.backend as K\n",
        "from keras.layers import Input, Lambda\n",
        "from keras.models import Model\n",
        "from keras.optimizers import Adam\n",
        "from keras.callbacks import ModelCheckpoint, ReduceLROnPlateau, EarlyStopping\n",
        "\n"
      ],
      "execution_count": null,
      "outputs": []
    },
    {
      "cell_type": "code",
      "metadata": {
        "id": "CjJX-cywKXyf",
        "colab_type": "code",
        "colab": {
          "base_uri": "https://localhost:8080/",
          "height": 1000
        },
        "outputId": "bf569507-472b-4e31-dc6b-a14859bc8e25"
      },
      "source": [
        "train_lines, val_lines = read_annotation_lines('/content/drive/My Drive/keras_yolov3_bridge_detection/dataset/train_txt/anno.txt', test_size=0.1)\n",
        "FOLDER_PATH = '/content/drive/My Drive/keras_yolov3_bridge_detection'\n",
        "class_name_path = '/content/drive/My Drive/keras_yolov3_bridge_detection/model_data/aoi_classes.txt'\n",
        "data_gen_train = DataGenerator(train_lines, class_name_path, FOLDER_PATH)\n",
        "data_gen_val = DataGenerator(val_lines, class_name_path, FOLDER_PATH)\n",
        "\n",
        "checkpoint = ModelCheckpoint('/content/drive/My Drive/keras_yolov3_bridge_detection/Weight_of_V4_Yolo/ep{epoch:03d}-loss{loss:.3f}-val_loss{val_loss:.3f}.h5',\n",
        "    monitor='val_loss', save_weights_only=True, save_best_only=True, period=5)\n",
        "early_stopping = EarlyStopping(monitor='val_loss', min_delta=0, patience=10, verbose=1)\n",
        "reduce_lr = ReduceLROnPlateau(monitor='val_loss', factor=0.1, patience=3, verbose=1)\n",
        "\n",
        "model = Yolov4(weight_path=None,class_name_path=class_name_path)\n",
        "\n",
        "model.fit(data_gen_train, \n",
        "          initial_epoch=0,\n",
        "          epochs=10000, \n",
        "          val_data_gen=data_gen_val,\n",
        "          callbacks=[checkpoint, reduce_lr, early_stopping])"
      ],
      "execution_count": null,
      "outputs": [
        {
          "output_type": "stream",
          "text": [
            "WARNING:tensorflow:`period` argument is deprecated. Please use `save_freq` to specify the frequency in number of batches seen.\n",
            "nms iou: 0.413 score: 0.3\n",
            "Epoch 1/10000\n",
            "1050/1050 [==============================] - 578s 551ms/step - loss: 929.0653 - val_loss: 180.7845\n",
            "Epoch 2/10000\n",
            "1050/1050 [==============================] - 313s 298ms/step - loss: 169.5745 - val_loss: 157.5798\n",
            "Epoch 3/10000\n",
            "1050/1050 [==============================] - 313s 298ms/step - loss: 151.1463 - val_loss: 155.5823\n",
            "Epoch 4/10000\n",
            "1050/1050 [==============================] - 313s 298ms/step - loss: 137.7880 - val_loss: 149.7259\n",
            "Epoch 5/10000\n",
            "1050/1050 [==============================] - 314s 299ms/step - loss: 130.4389 - val_loss: 124.4854\n",
            "Epoch 6/10000\n",
            "1050/1050 [==============================] - 313s 298ms/step - loss: 122.6229 - val_loss: 141.3651\n",
            "Epoch 7/10000\n",
            "1050/1050 [==============================] - 313s 298ms/step - loss: 119.7119 - val_loss: 481.2834\n",
            "Epoch 8/10000\n",
            "1050/1050 [==============================] - ETA: 0s - loss: 119.7344\n",
            "Epoch 00008: ReduceLROnPlateau reducing learning rate to 0.00010000000474974513.\n",
            "1050/1050 [==============================] - 312s 298ms/step - loss: 119.7344 - val_loss: 353.7771\n",
            "Epoch 9/10000\n",
            "1050/1050 [==============================] - 313s 298ms/step - loss: 100.9501 - val_loss: 97.4669\n",
            "Epoch 10/10000\n",
            "1050/1050 [==============================] - 314s 299ms/step - loss: 97.4561 - val_loss: 95.0698\n",
            "Epoch 11/10000\n",
            "1050/1050 [==============================] - 313s 298ms/step - loss: 95.1551 - val_loss: 92.2667\n",
            "Epoch 12/10000\n",
            "1050/1050 [==============================] - 313s 298ms/step - loss: 93.3370 - val_loss: 100.8743\n",
            "Epoch 13/10000\n",
            "1050/1050 [==============================] - 313s 298ms/step - loss: 91.3730 - val_loss: 131.3363\n",
            "Epoch 14/10000\n",
            "1050/1050 [==============================] - 312s 298ms/step - loss: 90.3251 - val_loss: 92.2061\n",
            "Epoch 15/10000\n",
            "1050/1050 [==============================] - 313s 298ms/step - loss: 88.1407 - val_loss: 104.8200\n",
            "Epoch 16/10000\n",
            "1050/1050 [==============================] - 312s 298ms/step - loss: 86.4711 - val_loss: 105.8881\n",
            "Epoch 17/10000\n",
            "1050/1050 [==============================] - ETA: 0s - loss: 84.4165\n",
            "Epoch 00017: ReduceLROnPlateau reducing learning rate to 1.0000000474974514e-05.\n",
            "1050/1050 [==============================] - 312s 298ms/step - loss: 84.4165 - val_loss: 101.0330\n",
            "Epoch 18/10000\n",
            "1050/1050 [==============================] - 313s 298ms/step - loss: 77.3009 - val_loss: 83.7659\n",
            "Epoch 19/10000\n",
            "1050/1050 [==============================] - 313s 298ms/step - loss: 75.1650 - val_loss: 84.7298\n",
            "Epoch 20/10000\n",
            "1050/1050 [==============================] - 314s 299ms/step - loss: 73.9584 - val_loss: 84.3312\n",
            "Epoch 21/10000\n",
            "1050/1050 [==============================] - ETA: 0s - loss: 73.0387\n",
            "Epoch 00021: ReduceLROnPlateau reducing learning rate to 1.0000000656873453e-06.\n",
            "1050/1050 [==============================] - 313s 298ms/step - loss: 73.0387 - val_loss: 84.3825\n",
            "Epoch 22/10000\n",
            "1050/1050 [==============================] - 313s 298ms/step - loss: 71.6621 - val_loss: 84.1232\n",
            "Epoch 23/10000\n",
            "1050/1050 [==============================] - 313s 298ms/step - loss: 71.2949 - val_loss: 84.2583\n",
            "Epoch 24/10000\n",
            "1050/1050 [==============================] - ETA: 0s - loss: 71.4192\n",
            "Epoch 00024: ReduceLROnPlateau reducing learning rate to 1.0000001111620805e-07.\n",
            "1050/1050 [==============================] - 312s 298ms/step - loss: 71.4192 - val_loss: 84.3371\n",
            "Epoch 25/10000\n",
            "1050/1050 [==============================] - 314s 299ms/step - loss: 70.8868 - val_loss: 84.1578\n",
            "Epoch 26/10000\n",
            "1050/1050 [==============================] - 312s 298ms/step - loss: 71.2607 - val_loss: 84.2237\n",
            "Epoch 27/10000\n",
            "1050/1050 [==============================] - ETA: 0s - loss: 71.0288\n",
            "Epoch 00027: ReduceLROnPlateau reducing learning rate to 1.000000082740371e-08.\n",
            "1050/1050 [==============================] - 312s 297ms/step - loss: 71.0288 - val_loss: 84.1967\n",
            "Epoch 28/10000\n",
            "1050/1050 [==============================] - 313s 298ms/step - loss: 71.6758 - val_loss: 84.3250\n",
            "Epoch 00028: early stopping\n"
          ],
          "name": "stdout"
        }
      ]
    },
    {
      "cell_type": "code",
      "metadata": {
        "id": "B-qG8ikTKXyj",
        "colab_type": "code",
        "colab": {}
      },
      "source": [
        ""
      ],
      "execution_count": null,
      "outputs": []
    },
    {
      "cell_type": "code",
      "metadata": {
        "id": "5xkN9zPFKXym",
        "colab_type": "code",
        "colab": {}
      },
      "source": [
        ""
      ],
      "execution_count": null,
      "outputs": []
    }
  ]
}